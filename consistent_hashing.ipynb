{
  "nbformat": 4,
  "nbformat_minor": 0,
  "metadata": {
    "colab": {
      "provenance": [],
      "authorship_tag": "ABX9TyO6u9uPneUqepBwQfNF9cDh",
      "include_colab_link": true
    },
    "kernelspec": {
      "name": "python3",
      "display_name": "Python 3"
    },
    "language_info": {
      "name": "python"
    }
  },
  "cells": [
    {
      "cell_type": "markdown",
      "metadata": {
        "id": "view-in-github",
        "colab_type": "text"
      },
      "source": [
        "<a href=\"https://colab.research.google.com/github/aditya-amlesh-jha/consistent_hashing/blob/main/consistent_hashing.ipynb\" target=\"_parent\"><img src=\"https://colab.research.google.com/assets/colab-badge.svg\" alt=\"Open In Colab\"/></a>"
      ]
    },
    {
      "cell_type": "code",
      "source": [
        "import hashlib\n",
        "import random\n",
        "import string"
      ],
      "metadata": {
        "id": "Is1TZkou28um"
      },
      "execution_count": 120,
      "outputs": []
    },
    {
      "cell_type": "code",
      "source": [
        "def generate_data(cols):\n",
        "  data = []\n",
        "  for _ in range(cols):\n",
        "    length = random.randint(2, 12)\n",
        "    random_string = ''.join(random.choices(string.ascii_letters, k=length))\n",
        "    data.append(random_string)\n",
        "  return data"
      ],
      "metadata": {
        "id": "DdHUlKrix6U8"
      },
      "execution_count": 121,
      "outputs": []
    },
    {
      "cell_type": "code",
      "source": [
        "class ConsistentHashing:\n",
        "  def __init__(this, replicas):\n",
        "    this.replicas = replicas\n",
        "    this.ring = {}\n",
        "    this.keys = []\n",
        "    this.nodes = []\n",
        "\n",
        "  def add_node(this, node):\n",
        "    this.nodes.append(node)\n",
        "\n",
        "    for i in range(this.replicas):\n",
        "      key = this.hash_function(node.ip_address+':'+str(i))\n",
        "      this.keys.append(key)\n",
        "      this.ring[key] = node\n",
        "\n",
        "    this.keys.sort()\n",
        "\n",
        "  def remove_node(this, node):\n",
        "    this.nodes.remove(node)\n",
        "    for i in range(this.replicas):\n",
        "      key = this.hash_function(node.ip_address+':'+str(i))\n",
        "      this.keys.remove(key)\n",
        "      del this.ring[key]\n",
        "\n",
        "  def get_node(this, key):\n",
        "    hash = this.hash_function(key)\n",
        "    position = this.get_node_position(hash)\n",
        "    return this.ring[this.keys[position]]\n",
        "\n",
        "  def get_node_position(this, hash):\n",
        "\n",
        "    if hash > this.keys[-1]:\n",
        "      return 0\n",
        "\n",
        "    low = 0\n",
        "    high = len(this.keys)-1\n",
        "\n",
        "    while low <= high:\n",
        "      mid = low + (high-low)//2\n",
        "\n",
        "      if this.keys[mid] == hash:\n",
        "        return mid\n",
        "      elif this.keys[mid] < hash:\n",
        "        low = mid + 1\n",
        "      else:\n",
        "        high = mid - 1\n",
        "\n",
        "    return low\n",
        "\n",
        "  def hash_function(this, key):\n",
        "    hash_object = hashlib.sha256(key.encode('utf-8'))\n",
        "    hex_digest = hash_object.hexdigest()\n",
        "    return int(hex_digest, 16)\n",
        "\n",
        "\n"
      ],
      "metadata": {
        "id": "XAQygCzbJuJG"
      },
      "execution_count": 122,
      "outputs": []
    },
    {
      "cell_type": "code",
      "execution_count": 123,
      "metadata": {
        "id": "3SBrPUwXCynQ"
      },
      "outputs": [],
      "source": [
        "class ServerNode:\n",
        "  def __init__(this, name, ip_address):\n",
        "    this.name = name\n",
        "    this.ip_address = ip_address\n"
      ]
    },
    {
      "cell_type": "code",
      "source": [
        "ServerNodes = []"
      ],
      "metadata": {
        "id": "RNz22uL_DML9"
      },
      "execution_count": 124,
      "outputs": []
    },
    {
      "cell_type": "code",
      "source": [
        "ServerNodes.append(ServerNode(\"server1\", \"192.168.1.1\"))\n",
        "ServerNodes.append(ServerNode(\"server2\", \"192.168.1.2\"))\n",
        "ServerNodes.append(ServerNode(\"server3\", \"192.168.1.3\"))\n",
        "ServerNodes.append(ServerNode(\"server4\", \"192.168.1.4\"))\n",
        "ServerNodes.append(ServerNode(\"server5\", \"192.168.1.5\"))\n",
        "ServerNodes.append(ServerNode(\"server6\", \"192.168.1.6\"))"
      ],
      "metadata": {
        "id": "_6nlubAnDOnG"
      },
      "execution_count": 125,
      "outputs": []
    },
    {
      "cell_type": "code",
      "source": [
        "consistentHashing = ConsistentHashing(5)"
      ],
      "metadata": {
        "id": "U2XVCjQbxtKN"
      },
      "execution_count": 126,
      "outputs": []
    },
    {
      "cell_type": "code",
      "source": [
        "nodeCount = {}"
      ],
      "metadata": {
        "id": "axn4Fo3k3as1"
      },
      "execution_count": 127,
      "outputs": []
    },
    {
      "cell_type": "code",
      "source": [
        "for node in ServerNodes:\n",
        "  consistentHashing.add_node(node)"
      ],
      "metadata": {
        "id": "dEdHPG8d45ug"
      },
      "execution_count": 128,
      "outputs": []
    },
    {
      "cell_type": "code",
      "source": [
        "data = generate_data(500000)\n",
        "\n",
        "\n",
        "for key in data:\n",
        "  temp = consistentHashing.get_node(key).name\n",
        "  if temp in nodeCount:\n",
        "    nodeCount[temp] += 1\n",
        "  else:\n",
        "    nodeCount[temp] = 1\n",
        "print()\n"
      ],
      "metadata": {
        "id": "96BBhvx9DSt_",
        "colab": {
          "base_uri": "https://localhost:8080/"
        },
        "outputId": "18701cc7-1621-48f0-d57e-acd0add6a28e"
      },
      "execution_count": 146,
      "outputs": [
        {
          "output_type": "stream",
          "name": "stdout",
          "text": [
            "\n"
          ]
        }
      ]
    },
    {
      "cell_type": "code",
      "source": [
        "for key in nodeCount.keys():\n",
        "  print(key, nodeCount[key])"
      ],
      "metadata": {
        "colab": {
          "base_uri": "https://localhost:8080/"
        },
        "id": "IR56NBL01Okh",
        "outputId": "e3a89995-3b46-4f84-bafb-cd986c597a76"
      },
      "execution_count": 147,
      "outputs": [
        {
          "output_type": "stream",
          "name": "stdout",
          "text": [
            "server6 1002020\n",
            "server4 1231715\n",
            "server1 1532032\n",
            "server5 1603080\n",
            "server2 1451364\n",
            "server3 1179989\n"
          ]
        }
      ]
    },
    {
      "cell_type": "code",
      "source": [],
      "metadata": {
        "id": "ZcwHvOI-5dsM"
      },
      "execution_count": null,
      "outputs": []
    }
  ]
}